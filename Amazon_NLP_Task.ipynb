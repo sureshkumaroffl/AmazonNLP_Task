{
  "nbformat": 4,
  "nbformat_minor": 0,
  "metadata": {
    "colab": {
      "provenance": [],
      "collapsed_sections": [
        "G7RZlEHq9RJe",
        "5rarPAiK99q4",
        "78yoeFPWB0AK",
        "lkL9g17hDudR",
        "FD7Rie_tOGwf",
        "nJXV_M5RSyk9",
        "X5Zlzw6qUkHq",
        "qZRbzeLKX2fa",
        "OdO6W8Gucv1a"
      ],
      "authorship_tag": "ABX9TyOkeg+ZVIzNtqv4SKV4ZRym",
      "include_colab_link": true
    },
    "kernelspec": {
      "name": "python3",
      "display_name": "Python 3"
    },
    "language_info": {
      "name": "python"
    }
  },
  "cells": [
    {
      "cell_type": "markdown",
      "metadata": {
        "id": "view-in-github",
        "colab_type": "text"
      },
      "source": [
        "<a href=\"https://colab.research.google.com/github/sureshkumaroffl/AmazonNLP_Task/blob/main/Amazon_NLP_Task.ipynb\" target=\"_parent\"><img src=\"https://colab.research.google.com/assets/colab-badge.svg\" alt=\"Open In Colab\"/></a>"
      ]
    },
    {
      "cell_type": "code",
      "execution_count": 356,
      "metadata": {
        "id": "CO3ASL2d0CzS",
        "colab": {
          "base_uri": "https://localhost:8080/"
        },
        "outputId": "c69f6aac-3d84-4c4c-b749-09b44ac2b660"
      },
      "outputs": [
        {
          "output_type": "stream",
          "name": "stdout",
          "text": [
            "Requirement already satisfied: pyspellchecker in /usr/local/lib/python3.10/dist-packages (0.7.2)\n"
          ]
        },
        {
          "output_type": "stream",
          "name": "stderr",
          "text": [
            "[nltk_data] Downloading package punkt to /root/nltk_data...\n",
            "[nltk_data]   Package punkt is already up-to-date!\n",
            "[nltk_data] Downloading package stopwords to /root/nltk_data...\n",
            "[nltk_data]   Package stopwords is already up-to-date!\n",
            "[nltk_data] Downloading package averaged_perceptron_tagger to\n",
            "[nltk_data]     /root/nltk_data...\n",
            "[nltk_data]   Package averaged_perceptron_tagger is already up-to-\n",
            "[nltk_data]       date!\n",
            "[nltk_data] Downloading package wordnet to /root/nltk_data...\n",
            "[nltk_data]   Package wordnet is already up-to-date!\n"
          ]
        }
      ],
      "source": [
        "!pip install pyspellchecker\n",
        "\n",
        "import pandas as pd\n",
        "from nltk import word_tokenize\n",
        "import nltk\n",
        "nltk.download('punkt')\n",
        "from spellchecker import SpellChecker\n",
        "from nltk.corpus import stopwords\n",
        "nltk.download('stopwords')\n",
        "from nltk.tokenize import RegexpTokenizer\n",
        "from nltk import FreqDist\n",
        "from nltk.stem import WordNetLemmatizer\n",
        "from nltk import word_tokenize,pos_tag\n",
        "nltk.download('averaged_perceptron_tagger')\n",
        "nltk.download('wordnet')\n",
        "from nltk.stem import PorterStemmer\n",
        "from sklearn.pipeline import Pipeline\n",
        "from sklearn.model_selection import train_test_split\n",
        "from sklearn.metrics import confusion_matrix\n",
        "from sklearn.feature_extraction.text import TfidfVectorizer\n",
        "from sklearn.linear_model import LogisticRegression"
      ]
    },
    {
      "cell_type": "code",
      "source": [
        "DataSet=pd.read_csv('https://raw.githubusercontent.com/sureshkumaroffl/AmazonNLP_Task/main/amazondata1.csv')"
      ],
      "metadata": {
        "id": "6tOySvEe0H-N"
      },
      "execution_count": 357,
      "outputs": []
    },
    {
      "cell_type": "code",
      "source": [
        "DataSet.head()"
      ],
      "metadata": {
        "colab": {
          "base_uri": "https://localhost:8080/",
          "height": 380
        },
        "id": "JP7tT5IQ7gUU",
        "outputId": "537b8a84-8e44-43a9-b6f6-71f2b2f7714d"
      },
      "execution_count": 358,
      "outputs": [
        {
          "output_type": "execute_result",
          "data": {
            "text/plain": [
              "   Unnamed: 0  Helpful Votes (bin)  Number of Records  Star Rating (bin)  \\\n",
              "0           0                  0.0                  1                0.0   \n",
              "1           1                  NaN                  1                NaN   \n",
              "2           2                  0.0                  1                0.0   \n",
              "3           3                  0.0                  1                0.0   \n",
              "4           4                  0.0                  1                0.0   \n",
              "\n",
              "   Customer Id  Helpful Votes  Overall Votes  Product Id  \\\n",
              "0          NaN            4.0           14.0    26009102   \n",
              "1          NaN            NaN            NaN     7491727   \n",
              "2          NaN            2.0            2.0  002782683X   \n",
              "3          NaN            0.0            0.0    60187271   \n",
              "4          NaN           14.0           20.0    60392452   \n",
              "\n",
              "                                         Review Body      Review Year  \\\n",
              "0  You will love this book.  It is a hard long re...  03/17/2005 0:00   \n",
              "1  This is the UK edition of Dr. Omit's book. Dr....              NaN   \n",
              "2  This is a fun and entertaining book about lear...  06/25/2012 0:00   \n",
              "3  Started a big slow, but once into it the autho...  06/09/2013 0:00   \n",
              "4  Received this book as a Christmas present. I h...  08/05/2003 0:00   \n",
              "\n",
              "                                     Review Headline  Star Rating  \n",
              "0                                     Best Book Ever          5.0  \n",
              "1  researchers from John Hopkins School of Medici...          NaN  \n",
              "2                                           Michelle          5.0  \n",
              "3                                     Loved the book          5.0  \n",
              "4                        Challenges your assumptions          4.0  "
            ],
            "text/html": [
              "\n",
              "  <div id=\"df-ace09f76-b683-405a-a4f3-426fc4588319\" class=\"colab-df-container\">\n",
              "    <div>\n",
              "<style scoped>\n",
              "    .dataframe tbody tr th:only-of-type {\n",
              "        vertical-align: middle;\n",
              "    }\n",
              "\n",
              "    .dataframe tbody tr th {\n",
              "        vertical-align: top;\n",
              "    }\n",
              "\n",
              "    .dataframe thead th {\n",
              "        text-align: right;\n",
              "    }\n",
              "</style>\n",
              "<table border=\"1\" class=\"dataframe\">\n",
              "  <thead>\n",
              "    <tr style=\"text-align: right;\">\n",
              "      <th></th>\n",
              "      <th>Unnamed: 0</th>\n",
              "      <th>Helpful Votes (bin)</th>\n",
              "      <th>Number of Records</th>\n",
              "      <th>Star Rating (bin)</th>\n",
              "      <th>Customer Id</th>\n",
              "      <th>Helpful Votes</th>\n",
              "      <th>Overall Votes</th>\n",
              "      <th>Product Id</th>\n",
              "      <th>Review Body</th>\n",
              "      <th>Review Year</th>\n",
              "      <th>Review Headline</th>\n",
              "      <th>Star Rating</th>\n",
              "    </tr>\n",
              "  </thead>\n",
              "  <tbody>\n",
              "    <tr>\n",
              "      <th>0</th>\n",
              "      <td>0</td>\n",
              "      <td>0.0</td>\n",
              "      <td>1</td>\n",
              "      <td>0.0</td>\n",
              "      <td>NaN</td>\n",
              "      <td>4.0</td>\n",
              "      <td>14.0</td>\n",
              "      <td>26009102</td>\n",
              "      <td>You will love this book.  It is a hard long re...</td>\n",
              "      <td>03/17/2005 0:00</td>\n",
              "      <td>Best Book Ever</td>\n",
              "      <td>5.0</td>\n",
              "    </tr>\n",
              "    <tr>\n",
              "      <th>1</th>\n",
              "      <td>1</td>\n",
              "      <td>NaN</td>\n",
              "      <td>1</td>\n",
              "      <td>NaN</td>\n",
              "      <td>NaN</td>\n",
              "      <td>NaN</td>\n",
              "      <td>NaN</td>\n",
              "      <td>7491727</td>\n",
              "      <td>This is the UK edition of Dr. Omit's book. Dr....</td>\n",
              "      <td>NaN</td>\n",
              "      <td>researchers from John Hopkins School of Medici...</td>\n",
              "      <td>NaN</td>\n",
              "    </tr>\n",
              "    <tr>\n",
              "      <th>2</th>\n",
              "      <td>2</td>\n",
              "      <td>0.0</td>\n",
              "      <td>1</td>\n",
              "      <td>0.0</td>\n",
              "      <td>NaN</td>\n",
              "      <td>2.0</td>\n",
              "      <td>2.0</td>\n",
              "      <td>002782683X</td>\n",
              "      <td>This is a fun and entertaining book about lear...</td>\n",
              "      <td>06/25/2012 0:00</td>\n",
              "      <td>Michelle</td>\n",
              "      <td>5.0</td>\n",
              "    </tr>\n",
              "    <tr>\n",
              "      <th>3</th>\n",
              "      <td>3</td>\n",
              "      <td>0.0</td>\n",
              "      <td>1</td>\n",
              "      <td>0.0</td>\n",
              "      <td>NaN</td>\n",
              "      <td>0.0</td>\n",
              "      <td>0.0</td>\n",
              "      <td>60187271</td>\n",
              "      <td>Started a big slow, but once into it the autho...</td>\n",
              "      <td>06/09/2013 0:00</td>\n",
              "      <td>Loved the book</td>\n",
              "      <td>5.0</td>\n",
              "    </tr>\n",
              "    <tr>\n",
              "      <th>4</th>\n",
              "      <td>4</td>\n",
              "      <td>0.0</td>\n",
              "      <td>1</td>\n",
              "      <td>0.0</td>\n",
              "      <td>NaN</td>\n",
              "      <td>14.0</td>\n",
              "      <td>20.0</td>\n",
              "      <td>60392452</td>\n",
              "      <td>Received this book as a Christmas present. I h...</td>\n",
              "      <td>08/05/2003 0:00</td>\n",
              "      <td>Challenges your assumptions</td>\n",
              "      <td>4.0</td>\n",
              "    </tr>\n",
              "  </tbody>\n",
              "</table>\n",
              "</div>\n",
              "    <div class=\"colab-df-buttons\">\n",
              "\n",
              "  <div class=\"colab-df-container\">\n",
              "    <button class=\"colab-df-convert\" onclick=\"convertToInteractive('df-ace09f76-b683-405a-a4f3-426fc4588319')\"\n",
              "            title=\"Convert this dataframe to an interactive table.\"\n",
              "            style=\"display:none;\">\n",
              "\n",
              "  <svg xmlns=\"http://www.w3.org/2000/svg\" height=\"24px\" viewBox=\"0 -960 960 960\">\n",
              "    <path d=\"M120-120v-720h720v720H120Zm60-500h600v-160H180v160Zm220 220h160v-160H400v160Zm0 220h160v-160H400v160ZM180-400h160v-160H180v160Zm440 0h160v-160H620v160ZM180-180h160v-160H180v160Zm440 0h160v-160H620v160Z\"/>\n",
              "  </svg>\n",
              "    </button>\n",
              "\n",
              "  <style>\n",
              "    .colab-df-container {\n",
              "      display:flex;\n",
              "      gap: 12px;\n",
              "    }\n",
              "\n",
              "    .colab-df-convert {\n",
              "      background-color: #E8F0FE;\n",
              "      border: none;\n",
              "      border-radius: 50%;\n",
              "      cursor: pointer;\n",
              "      display: none;\n",
              "      fill: #1967D2;\n",
              "      height: 32px;\n",
              "      padding: 0 0 0 0;\n",
              "      width: 32px;\n",
              "    }\n",
              "\n",
              "    .colab-df-convert:hover {\n",
              "      background-color: #E2EBFA;\n",
              "      box-shadow: 0px 1px 2px rgba(60, 64, 67, 0.3), 0px 1px 3px 1px rgba(60, 64, 67, 0.15);\n",
              "      fill: #174EA6;\n",
              "    }\n",
              "\n",
              "    .colab-df-buttons div {\n",
              "      margin-bottom: 4px;\n",
              "    }\n",
              "\n",
              "    [theme=dark] .colab-df-convert {\n",
              "      background-color: #3B4455;\n",
              "      fill: #D2E3FC;\n",
              "    }\n",
              "\n",
              "    [theme=dark] .colab-df-convert:hover {\n",
              "      background-color: #434B5C;\n",
              "      box-shadow: 0px 1px 3px 1px rgba(0, 0, 0, 0.15);\n",
              "      filter: drop-shadow(0px 1px 2px rgba(0, 0, 0, 0.3));\n",
              "      fill: #FFFFFF;\n",
              "    }\n",
              "  </style>\n",
              "\n",
              "    <script>\n",
              "      const buttonEl =\n",
              "        document.querySelector('#df-ace09f76-b683-405a-a4f3-426fc4588319 button.colab-df-convert');\n",
              "      buttonEl.style.display =\n",
              "        google.colab.kernel.accessAllowed ? 'block' : 'none';\n",
              "\n",
              "      async function convertToInteractive(key) {\n",
              "        const element = document.querySelector('#df-ace09f76-b683-405a-a4f3-426fc4588319');\n",
              "        const dataTable =\n",
              "          await google.colab.kernel.invokeFunction('convertToInteractive',\n",
              "                                                    [key], {});\n",
              "        if (!dataTable) return;\n",
              "\n",
              "        const docLinkHtml = 'Like what you see? Visit the ' +\n",
              "          '<a target=\"_blank\" href=https://colab.research.google.com/notebooks/data_table.ipynb>data table notebook</a>'\n",
              "          + ' to learn more about interactive tables.';\n",
              "        element.innerHTML = '';\n",
              "        dataTable['output_type'] = 'display_data';\n",
              "        await google.colab.output.renderOutput(dataTable, element);\n",
              "        const docLink = document.createElement('div');\n",
              "        docLink.innerHTML = docLinkHtml;\n",
              "        element.appendChild(docLink);\n",
              "      }\n",
              "    </script>\n",
              "  </div>\n",
              "\n",
              "\n",
              "<div id=\"df-c5515d77-033f-4d80-a4e1-3807cb670741\">\n",
              "  <button class=\"colab-df-quickchart\" onclick=\"quickchart('df-c5515d77-033f-4d80-a4e1-3807cb670741')\"\n",
              "            title=\"Suggest charts.\"\n",
              "            style=\"display:none;\">\n",
              "\n",
              "<svg xmlns=\"http://www.w3.org/2000/svg\" height=\"24px\"viewBox=\"0 0 24 24\"\n",
              "     width=\"24px\">\n",
              "    <g>\n",
              "        <path d=\"M19 3H5c-1.1 0-2 .9-2 2v14c0 1.1.9 2 2 2h14c1.1 0 2-.9 2-2V5c0-1.1-.9-2-2-2zM9 17H7v-7h2v7zm4 0h-2V7h2v10zm4 0h-2v-4h2v4z\"/>\n",
              "    </g>\n",
              "</svg>\n",
              "  </button>\n",
              "\n",
              "<style>\n",
              "  .colab-df-quickchart {\n",
              "      --bg-color: #E8F0FE;\n",
              "      --fill-color: #1967D2;\n",
              "      --hover-bg-color: #E2EBFA;\n",
              "      --hover-fill-color: #174EA6;\n",
              "      --disabled-fill-color: #AAA;\n",
              "      --disabled-bg-color: #DDD;\n",
              "  }\n",
              "\n",
              "  [theme=dark] .colab-df-quickchart {\n",
              "      --bg-color: #3B4455;\n",
              "      --fill-color: #D2E3FC;\n",
              "      --hover-bg-color: #434B5C;\n",
              "      --hover-fill-color: #FFFFFF;\n",
              "      --disabled-bg-color: #3B4455;\n",
              "      --disabled-fill-color: #666;\n",
              "  }\n",
              "\n",
              "  .colab-df-quickchart {\n",
              "    background-color: var(--bg-color);\n",
              "    border: none;\n",
              "    border-radius: 50%;\n",
              "    cursor: pointer;\n",
              "    display: none;\n",
              "    fill: var(--fill-color);\n",
              "    height: 32px;\n",
              "    padding: 0;\n",
              "    width: 32px;\n",
              "  }\n",
              "\n",
              "  .colab-df-quickchart:hover {\n",
              "    background-color: var(--hover-bg-color);\n",
              "    box-shadow: 0 1px 2px rgba(60, 64, 67, 0.3), 0 1px 3px 1px rgba(60, 64, 67, 0.15);\n",
              "    fill: var(--button-hover-fill-color);\n",
              "  }\n",
              "\n",
              "  .colab-df-quickchart-complete:disabled,\n",
              "  .colab-df-quickchart-complete:disabled:hover {\n",
              "    background-color: var(--disabled-bg-color);\n",
              "    fill: var(--disabled-fill-color);\n",
              "    box-shadow: none;\n",
              "  }\n",
              "\n",
              "  .colab-df-spinner {\n",
              "    border: 2px solid var(--fill-color);\n",
              "    border-color: transparent;\n",
              "    border-bottom-color: var(--fill-color);\n",
              "    animation:\n",
              "      spin 1s steps(1) infinite;\n",
              "  }\n",
              "\n",
              "  @keyframes spin {\n",
              "    0% {\n",
              "      border-color: transparent;\n",
              "      border-bottom-color: var(--fill-color);\n",
              "      border-left-color: var(--fill-color);\n",
              "    }\n",
              "    20% {\n",
              "      border-color: transparent;\n",
              "      border-left-color: var(--fill-color);\n",
              "      border-top-color: var(--fill-color);\n",
              "    }\n",
              "    30% {\n",
              "      border-color: transparent;\n",
              "      border-left-color: var(--fill-color);\n",
              "      border-top-color: var(--fill-color);\n",
              "      border-right-color: var(--fill-color);\n",
              "    }\n",
              "    40% {\n",
              "      border-color: transparent;\n",
              "      border-right-color: var(--fill-color);\n",
              "      border-top-color: var(--fill-color);\n",
              "    }\n",
              "    60% {\n",
              "      border-color: transparent;\n",
              "      border-right-color: var(--fill-color);\n",
              "    }\n",
              "    80% {\n",
              "      border-color: transparent;\n",
              "      border-right-color: var(--fill-color);\n",
              "      border-bottom-color: var(--fill-color);\n",
              "    }\n",
              "    90% {\n",
              "      border-color: transparent;\n",
              "      border-bottom-color: var(--fill-color);\n",
              "    }\n",
              "  }\n",
              "</style>\n",
              "\n",
              "  <script>\n",
              "    async function quickchart(key) {\n",
              "      const quickchartButtonEl =\n",
              "        document.querySelector('#' + key + ' button');\n",
              "      quickchartButtonEl.disabled = true;  // To prevent multiple clicks.\n",
              "      quickchartButtonEl.classList.add('colab-df-spinner');\n",
              "      try {\n",
              "        const charts = await google.colab.kernel.invokeFunction(\n",
              "            'suggestCharts', [key], {});\n",
              "      } catch (error) {\n",
              "        console.error('Error during call to suggestCharts:', error);\n",
              "      }\n",
              "      quickchartButtonEl.classList.remove('colab-df-spinner');\n",
              "      quickchartButtonEl.classList.add('colab-df-quickchart-complete');\n",
              "    }\n",
              "    (() => {\n",
              "      let quickchartButtonEl =\n",
              "        document.querySelector('#df-c5515d77-033f-4d80-a4e1-3807cb670741 button');\n",
              "      quickchartButtonEl.style.display =\n",
              "        google.colab.kernel.accessAllowed ? 'block' : 'none';\n",
              "    })();\n",
              "  </script>\n",
              "</div>\n",
              "    </div>\n",
              "  </div>\n"
            ]
          },
          "metadata": {},
          "execution_count": 358
        }
      ]
    },
    {
      "cell_type": "code",
      "source": [
        "DataSet.dropna(axis=0,inplace=True)\n",
        "DataSet.shape"
      ],
      "metadata": {
        "colab": {
          "base_uri": "https://localhost:8080/"
        },
        "id": "1SppOuGkmQ3z",
        "outputId": "1934fa26-a4d5-4dbe-f219-6e17cbfc6828"
      },
      "execution_count": 359,
      "outputs": [
        {
          "output_type": "execute_result",
          "data": {
            "text/plain": [
              "(12918, 12)"
            ]
          },
          "metadata": {},
          "execution_count": 359
        }
      ]
    },
    {
      "cell_type": "code",
      "source": [
        "DataSet['Review_status']=''\n",
        "DataSet.loc[DataSet['Star Rating']>=3,'Review_status']='Good'\n",
        "# DataSet.loc[DataSet['Star Rating']==3,'Review_status']='Neutral'\n",
        "DataSet.loc[DataSet['Star Rating']<3,'Review_status']='Bad'"
      ],
      "metadata": {
        "id": "dLYNIdQzo6s4"
      },
      "execution_count": 361,
      "outputs": []
    },
    {
      "cell_type": "markdown",
      "source": [
        "##LowerCasing"
      ],
      "metadata": {
        "id": "G7RZlEHq9RJe"
      }
    },
    {
      "cell_type": "code",
      "source": [
        "def df_lower(df):\n",
        "  l_df=df.str.lower()\n",
        "  return l_df"
      ],
      "metadata": {
        "id": "QrbLEB5T8ae7"
      },
      "execution_count": 362,
      "outputs": []
    },
    {
      "cell_type": "code",
      "source": [
        "DataSet['Review Body']=df_lower(DataSet['Review Body'])"
      ],
      "metadata": {
        "id": "PZrLpHMW9j7w"
      },
      "execution_count": 363,
      "outputs": []
    },
    {
      "cell_type": "code",
      "source": [
        "DataSet['Review Body']"
      ],
      "metadata": {
        "colab": {
          "base_uri": "https://localhost:8080/"
        },
        "id": "e5iWRgZw95an",
        "outputId": "1f9dbcd9-791d-4084-ad3f-d1b323f05d21"
      },
      "execution_count": 364,
      "outputs": [
        {
          "output_type": "execute_result",
          "data": {
            "text/plain": [
              "76       john green wrote an amazing book. worth the mo...\n",
              "77          classic. awesome. american traditional tattoo.\n",
              "78                                              great book\n",
              "79                                          little helpful\n",
              "80       got this for grand baby and she is not potty t...\n",
              "                               ...                        \n",
              "22400         perfect and a lot faster than they quoted :)\n",
              "22401    for the cheap price, thats exactly what these ...\n",
              "22402    i got this for my 18 month old daughter.  she ...\n",
              "22403    this book is a guide to being gentle with your...\n",
              "22404          loved the entire series.  very imaginative.\n",
              "Name: Review Body, Length: 12918, dtype: object"
            ]
          },
          "metadata": {},
          "execution_count": 364
        }
      ]
    },
    {
      "cell_type": "markdown",
      "source": [
        "##Extra Space removing"
      ],
      "metadata": {
        "id": "5rarPAiK99q4"
      }
    },
    {
      "cell_type": "code",
      "source": [
        "def df_space_remove(text):\n",
        "  return \" \".join(text.split())"
      ],
      "metadata": {
        "id": "j4sYMLkzEz0j"
      },
      "execution_count": 365,
      "outputs": []
    },
    {
      "cell_type": "code",
      "source": [
        "DataSet['Review Body']=DataSet['Review Body'].apply(df_space_remove)"
      ],
      "metadata": {
        "id": "n7d8FOHurm6Q"
      },
      "execution_count": 366,
      "outputs": []
    },
    {
      "cell_type": "markdown",
      "source": [
        "##Tokenization"
      ],
      "metadata": {
        "id": "78yoeFPWB0AK"
      }
    },
    {
      "cell_type": "code",
      "source": [
        "DataSet['Review Body']=DataSet['Review Body'].apply(word_tokenize)"
      ],
      "metadata": {
        "id": "IAdAa3JODGz5"
      },
      "execution_count": 367,
      "outputs": []
    },
    {
      "cell_type": "code",
      "source": [
        "DataSet['Review Body']"
      ],
      "metadata": {
        "id": "jA1qX3ppE6RH",
        "colab": {
          "base_uri": "https://localhost:8080/"
        },
        "outputId": "d80e3088-af58-46b3-e418-243003b48f67"
      },
      "execution_count": 368,
      "outputs": [
        {
          "output_type": "execute_result",
          "data": {
            "text/plain": [
              "76       [john, green, wrote, an, amazing, book, ., wor...\n",
              "77       [classic, ., awesome, ., american, traditional...\n",
              "78                                           [great, book]\n",
              "79                                       [little, helpful]\n",
              "80       [got, this, for, grand, baby, and, she, is, no...\n",
              "                               ...                        \n",
              "22400    [perfect, and, a, lot, faster, than, they, quo...\n",
              "22401    [for, the, cheap, price, ,, thats, exactly, wh...\n",
              "22402    [i, got, this, for, my, 18, month, old, daught...\n",
              "22403    [this, book, is, a, guide, to, being, gentle, ...\n",
              "22404    [loved, the, entire, series, ., very, imaginat...\n",
              "Name: Review Body, Length: 12918, dtype: object"
            ]
          },
          "metadata": {},
          "execution_count": 368
        }
      ]
    },
    {
      "cell_type": "markdown",
      "source": [
        "##Spelling Correction"
      ],
      "metadata": {
        "id": "lkL9g17hDudR"
      }
    },
    {
      "cell_type": "code",
      "source": [
        "def spell_check(text):\n",
        "\n",
        "    result = []\n",
        "    spell = SpellChecker()\n",
        "    for word in text:\n",
        "        correct_word = spell.correction(word)\n",
        "        result.append(correct_word)\n",
        "\n",
        "    return result\n",
        "\n",
        "#Test\n",
        "text = \"i like india godd vry mch\".split()\n",
        "spell_check(text)"
      ],
      "metadata": {
        "colab": {
          "base_uri": "https://localhost:8080/"
        },
        "id": "t7CmGeDNrm_e",
        "outputId": "7278cdff-1aee-417e-da9b-f61cff331c54"
      },
      "execution_count": 369,
      "outputs": [
        {
          "output_type": "execute_result",
          "data": {
            "text/plain": [
              "['i', 'like', 'india', 'good', 'very', 'much']"
            ]
          },
          "metadata": {},
          "execution_count": 369
        }
      ]
    },
    {
      "cell_type": "code",
      "source": [
        "# DataSet['Review Body']=DataSet['Review Body'].apply(spell_check)"
      ],
      "metadata": {
        "id": "e9aqSDCPNmfw"
      },
      "execution_count": 370,
      "outputs": []
    },
    {
      "cell_type": "markdown",
      "source": [
        "##Stopwords Removing"
      ],
      "metadata": {
        "id": "FD7Rie_tOGwf"
      }
    },
    {
      "cell_type": "code",
      "source": [
        "print(stopwords.words('english'))"
      ],
      "metadata": {
        "colab": {
          "base_uri": "https://localhost:8080/"
        },
        "id": "ae-ocMSAOTG_",
        "outputId": "5378efe6-8f3f-4ce5-d5fa-0e8ac93599e5"
      },
      "execution_count": 371,
      "outputs": [
        {
          "output_type": "stream",
          "name": "stdout",
          "text": [
            "['i', 'me', 'my', 'myself', 'we', 'our', 'ours', 'ourselves', 'you', \"you're\", \"you've\", \"you'll\", \"you'd\", 'your', 'yours', 'yourself', 'yourselves', 'he', 'him', 'his', 'himself', 'she', \"she's\", 'her', 'hers', 'herself', 'it', \"it's\", 'its', 'itself', 'they', 'them', 'their', 'theirs', 'themselves', 'what', 'which', 'who', 'whom', 'this', 'that', \"that'll\", 'these', 'those', 'am', 'is', 'are', 'was', 'were', 'be', 'been', 'being', 'have', 'has', 'had', 'having', 'do', 'does', 'did', 'doing', 'a', 'an', 'the', 'and', 'but', 'if', 'or', 'because', 'as', 'until', 'while', 'of', 'at', 'by', 'for', 'with', 'about', 'against', 'between', 'into', 'through', 'during', 'before', 'after', 'above', 'below', 'to', 'from', 'up', 'down', 'in', 'out', 'on', 'off', 'over', 'under', 'again', 'further', 'then', 'once', 'here', 'there', 'when', 'where', 'why', 'how', 'all', 'any', 'both', 'each', 'few', 'more', 'most', 'other', 'some', 'such', 'no', 'nor', 'not', 'only', 'own', 'same', 'so', 'than', 'too', 'very', 's', 't', 'can', 'will', 'just', 'don', \"don't\", 'should', \"should've\", 'now', 'd', 'll', 'm', 'o', 're', 've', 'y', 'ain', 'aren', \"aren't\", 'couldn', \"couldn't\", 'didn', \"didn't\", 'doesn', \"doesn't\", 'hadn', \"hadn't\", 'hasn', \"hasn't\", 'haven', \"haven't\", 'isn', \"isn't\", 'ma', 'mightn', \"mightn't\", 'mustn', \"mustn't\", 'needn', \"needn't\", 'shan', \"shan't\", 'shouldn', \"shouldn't\", 'wasn', \"wasn't\", 'weren', \"weren't\", 'won', \"won't\", 'wouldn', \"wouldn't\"]\n"
          ]
        }
      ]
    },
    {
      "cell_type": "code",
      "source": [
        "en_stopwords = stopwords.words('english')\n",
        "\n",
        "def remove_stopwords(text):\n",
        "    result = []\n",
        "    for token in text:\n",
        "        if token not in en_stopwords:\n",
        "            result.append(token)\n",
        "\n",
        "    return result\n",
        "\n",
        "#Test\n",
        "text = \"this is the only solution of that question\".split()\n",
        "print(remove_stopwords(text))"
      ],
      "metadata": {
        "colab": {
          "base_uri": "https://localhost:8080/"
        },
        "id": "npm22RuHOTJf",
        "outputId": "3273ed16-1e7a-4bf8-f632-2f0d7c91fb7f"
      },
      "execution_count": 372,
      "outputs": [
        {
          "output_type": "stream",
          "name": "stdout",
          "text": [
            "['solution', 'question']\n"
          ]
        }
      ]
    },
    {
      "cell_type": "code",
      "source": [
        "DataSet['Review Body']=DataSet['Review Body'].apply(remove_stopwords)"
      ],
      "metadata": {
        "id": "xHRE6k3_OTL1"
      },
      "execution_count": 373,
      "outputs": []
    },
    {
      "cell_type": "code",
      "source": [
        "DataSet['Review Body']"
      ],
      "metadata": {
        "colab": {
          "base_uri": "https://localhost:8080/"
        },
        "id": "jV04o-2vQISt",
        "outputId": "b296d88a-3fab-4943-d143-0b003b38c346"
      },
      "execution_count": 374,
      "outputs": [
        {
          "output_type": "execute_result",
          "data": {
            "text/plain": [
              "76       [john, green, wrote, amazing, book, ., worth, ...\n",
              "77       [classic, ., awesome, ., american, traditional...\n",
              "78                                           [great, book]\n",
              "79                                       [little, helpful]\n",
              "80       [got, grand, baby, potty, training, ., good, b...\n",
              "                               ...                        \n",
              "22400                 [perfect, lot, faster, quoted, :, )]\n",
              "22401    [cheap, price, ,, thats, exactly, cards, ., li...\n",
              "22402    [got, 18, month, old, daughter, ., loves, book...\n",
              "22403    [book, guide, gentle, still, moving, forward, ...\n",
              "22404           [loved, entire, series, ., imaginative, .]\n",
              "Name: Review Body, Length: 12918, dtype: object"
            ]
          },
          "metadata": {},
          "execution_count": 374
        }
      ]
    },
    {
      "cell_type": "markdown",
      "source": [
        "##Punctuations Removing"
      ],
      "metadata": {
        "id": "nJXV_M5RSyk9"
      }
    },
    {
      "cell_type": "code",
      "source": [
        "def remove_punct(text):\n",
        "\n",
        "    tokenizer = RegexpTokenizer(r\"\\w+\")\n",
        "    lst=tokenizer.tokenize(' '.join(text))\n",
        "    return lst\n",
        "\n",
        "#Test\n",
        "text=['@','Amazon', 'tools', 'kids', 'dysfunction','$','!']\n",
        "print(text)\n",
        "remove_punct(text)"
      ],
      "metadata": {
        "colab": {
          "base_uri": "https://localhost:8080/"
        },
        "id": "DzAzgqBGSlUD",
        "outputId": "c39e1ed9-1dde-4391-99c1-12a44f51eca9"
      },
      "execution_count": 375,
      "outputs": [
        {
          "output_type": "stream",
          "name": "stdout",
          "text": [
            "['@', 'Amazon', 'tools', 'kids', 'dysfunction', '$', '!']\n"
          ]
        },
        {
          "output_type": "execute_result",
          "data": {
            "text/plain": [
              "['Amazon', 'tools', 'kids', 'dysfunction']"
            ]
          },
          "metadata": {},
          "execution_count": 375
        }
      ]
    },
    {
      "cell_type": "code",
      "source": [
        "DataSet['Review Body']=DataSet['Review Body'].apply(remove_punct)"
      ],
      "metadata": {
        "id": "hOb21tGFTs9D"
      },
      "execution_count": 376,
      "outputs": []
    },
    {
      "cell_type": "markdown",
      "source": [
        "##Frequent Words Removing"
      ],
      "metadata": {
        "id": "X5Zlzw6qUkHq"
      }
    },
    {
      "cell_type": "code",
      "source": [
        "def frequent_words(df):\n",
        "\n",
        "    lst=[]\n",
        "    for text in df.values:\n",
        "        lst+=text\n",
        "    fdist=FreqDist(lst)\n",
        "    return fdist.most_common(2)\n",
        "\n",
        "frequent_words(DataSet['Review Body'])"
      ],
      "metadata": {
        "colab": {
          "base_uri": "https://localhost:8080/"
        },
        "id": "g__6NzaeVgS5",
        "outputId": "59c3e0c4-8860-4a4c-e6b1-a0e5c680b5f3"
      },
      "execution_count": 377,
      "outputs": [
        {
          "output_type": "execute_result",
          "data": {
            "text/plain": [
              "[('book', 11111), ('br', 8176)]"
            ]
          },
          "metadata": {},
          "execution_count": 377
        }
      ]
    },
    {
      "cell_type": "code",
      "source": [
        "freq_words = frequent_words(DataSet['Review Body'])\n",
        "\n",
        "lst = []\n",
        "for a,b in freq_words:\n",
        "    lst.append(b)\n",
        "\n",
        "def remove_freq_words(text):\n",
        "\n",
        "    result=[]\n",
        "    for item in text:\n",
        "        if item not in lst:\n",
        "            result.append(item)\n",
        "\n",
        "    return result\n",
        "\n",
        "DataSet['Review Body']=DataSet['Review Body'].apply(remove_freq_words)"
      ],
      "metadata": {
        "id": "LpnRSdw0XAfY"
      },
      "execution_count": 378,
      "outputs": []
    },
    {
      "cell_type": "markdown",
      "source": [
        "##Lemmatization"
      ],
      "metadata": {
        "id": "qZRbzeLKX2fa"
      }
    },
    {
      "cell_type": "code",
      "source": [
        "def lemmatization(text):\n",
        "\n",
        "    result=[]\n",
        "    wordnet = WordNetLemmatizer()\n",
        "    for token,tag in pos_tag(text):\n",
        "        pos=tag[0].lower()\n",
        "\n",
        "        if pos not in ['a', 'r', 'n', 'v']:\n",
        "            pos='n'\n",
        "\n",
        "        result.append(wordnet.lemmatize(token,pos))\n",
        "\n",
        "    return result\n",
        "\n",
        "#Test\n",
        "text = ['running','ran','runs']\n",
        "lemmatization(text)"
      ],
      "metadata": {
        "colab": {
          "base_uri": "https://localhost:8080/"
        },
        "id": "ULx2Y4gyX13I",
        "outputId": "71d036ee-ffa2-4a11-9e34-ee2be792a179"
      },
      "execution_count": 379,
      "outputs": [
        {
          "output_type": "execute_result",
          "data": {
            "text/plain": [
              "['run', 'ran', 'run']"
            ]
          },
          "metadata": {},
          "execution_count": 379
        }
      ]
    },
    {
      "cell_type": "code",
      "source": [
        "DataSet['Review Body']=DataSet['Review Body'].apply(lemmatization)"
      ],
      "metadata": {
        "id": "QdgBAsegXZ-A"
      },
      "execution_count": 380,
      "outputs": []
    },
    {
      "cell_type": "markdown",
      "source": [
        "##Stemming"
      ],
      "metadata": {
        "id": "OdO6W8Gucv1a"
      }
    },
    {
      "cell_type": "code",
      "source": [
        "def stemming(text):\n",
        "    porter = PorterStemmer()\n",
        "\n",
        "    result=[]\n",
        "    for word in text:\n",
        "        result.append(porter.stem(word))\n",
        "    return result\n",
        "\n",
        "#Test\n",
        "text=['Connects','Connecting','Connections','Connected','Connection','Connectings','Connect']\n",
        "stemming(text)"
      ],
      "metadata": {
        "colab": {
          "base_uri": "https://localhost:8080/"
        },
        "id": "rwHxbR0AdWZz",
        "outputId": "44b58d1b-7120-4b54-cb59-37190387d609"
      },
      "execution_count": 381,
      "outputs": [
        {
          "output_type": "execute_result",
          "data": {
            "text/plain": [
              "['connect', 'connect', 'connect', 'connect', 'connect', 'connect', 'connect']"
            ]
          },
          "metadata": {},
          "execution_count": 381
        }
      ]
    },
    {
      "cell_type": "code",
      "source": [
        "DataSet['Review Body']=DataSet['Review Body'].apply(stemming)"
      ],
      "metadata": {
        "id": "clTHMiR2XaFv"
      },
      "execution_count": 382,
      "outputs": []
    },
    {
      "cell_type": "markdown",
      "source": [
        "##List to String"
      ],
      "metadata": {
        "id": "14xTy6exd2eB"
      }
    },
    {
      "cell_type": "code",
      "source": [
        "def list_to_string(text):\n",
        "  listTxt=\"\"\n",
        "  for str_val in text:\n",
        "    listTxt +=str_val+''\n",
        "  # str_val=''.join(map(str,text))\n",
        "  return listTxt"
      ],
      "metadata": {
        "id": "xlW0KmUJfblP"
      },
      "execution_count": 385,
      "outputs": []
    },
    {
      "cell_type": "code",
      "source": [
        "# DataSet['Review Body']=DataSet['Review Body'].apply(list_to_string)"
      ],
      "metadata": {
        "id": "q8Lg64jKfzBK"
      },
      "execution_count": 264,
      "outputs": []
    },
    {
      "cell_type": "code",
      "source": [
        "print(list_to_string(['mayava','krishna']))"
      ],
      "metadata": {
        "colab": {
          "base_uri": "https://localhost:8080/"
        },
        "id": "qRcT30cmvBBT",
        "outputId": "592d7be9-5f3a-41a7-cb01-7d9b73379bd2"
      },
      "execution_count": 171,
      "outputs": [
        {
          "output_type": "stream",
          "name": "stdout",
          "text": [
            "mayavakrishna\n"
          ]
        }
      ]
    },
    {
      "cell_type": "code",
      "source": [
        "DataSet"
      ],
      "metadata": {
        "colab": {
          "base_uri": "https://localhost:8080/",
          "height": 806
        },
        "id": "SlSlAEa0u16k",
        "outputId": "7e612b2e-a8eb-46ec-c7e4-549b46e8f262"
      },
      "execution_count": 386,
      "outputs": [
        {
          "output_type": "execute_result",
          "data": {
            "text/plain": [
              "       Unnamed: 0  Helpful Votes (bin)  Number of Records  Star Rating (bin)  \\\n",
              "76             76                  0.0                  1                0.0   \n",
              "77             77                  0.0                  1                0.0   \n",
              "78             78                  0.0                  1                0.0   \n",
              "79             79                  0.0                  1                0.0   \n",
              "80             80                  0.0                  1                0.0   \n",
              "...           ...                  ...                ...                ...   \n",
              "22400       22400                  0.0                  1                0.0   \n",
              "22401       22401                  0.0                  1                0.0   \n",
              "22402       22402                  0.0                  1                0.0   \n",
              "22403       22403                  0.0                  1                0.0   \n",
              "22404       22404                  0.0                  1                0.0   \n",
              "\n",
              "       Customer Id  Helpful Votes  Overall Votes  Product Id  \\\n",
              "76      10001274.0            0.0            0.0   142402516   \n",
              "77      10001635.0            0.0            1.0   945367163   \n",
              "78      10002164.0            0.0            0.0  1512081140   \n",
              "79      10002164.0            0.0            0.0  B005DI89EI   \n",
              "80      10002870.0            0.0            0.0   764152319   \n",
              "...            ...            ...            ...         ...   \n",
              "22400   47830325.0            0.0            1.0  1742200117   \n",
              "22401   47830817.0            0.0            0.0   769647197   \n",
              "22402   47830817.0            2.0            2.0  1575425009   \n",
              "22403   47830878.0            1.0            1.0  1940014417   \n",
              "22404   47834640.0            0.0            0.0   316101745   \n",
              "\n",
              "                                             Review Body      Review Year  \\\n",
              "76        [john, green, write, amaz, book, worth, money]  08/31/2015 0:00   \n",
              "77           [classic, awesom, american, tradit, tattoo]  08/29/2015 0:00   \n",
              "78                                         [great, book]  08/28/2015 0:00   \n",
              "79                                         [littl, help]  08/28/2015 0:00   \n",
              "80          [get, grand, babi, potti, train, good, book]  08/28/2015 0:00   \n",
              "...                                                  ...              ...   \n",
              "22400                       [perfect, lot, faster, quot]  08/28/2015 0:00   \n",
              "22401  [cheap, price, that, exactli, card, like, deck...  08/28/2015 0:00   \n",
              "22402  [get, 18, month, old, daughter, love, book, ni...  08/27/2015 0:00   \n",
              "22403  [book, guid, gentl, still, move, forward, life...  08/31/2015 0:00   \n",
              "22404                        [love, entir, seri, imagin]  08/27/2015 0:00   \n",
              "\n",
              "                            Review Headline  Star Rating Review_status  \n",
              "76                                 Amazing.          5.0          Good  \n",
              "77     Awesome. American traditional tattoo          5.0          Good  \n",
              "78                               Five Stars          5.0          Good  \n",
              "79                                 One Star          1.0           Bad  \n",
              "80                          Very good book.          5.0          Good  \n",
              "...                                     ...          ...           ...  \n",
              "22400                            Four Stars          4.0          Good  \n",
              "22401                    Good for the price          4.0          Good  \n",
              "22402    Great book, great lesson for kids!          5.0          Good  \n",
              "22403    Be gentle, be aware, move forward!          5.0          Good  \n",
              "22404                            Five Stars          5.0          Good  \n",
              "\n",
              "[12918 rows x 13 columns]"
            ],
            "text/html": [
              "\n",
              "  <div id=\"df-03a69421-7b74-4fcd-8eaa-3237571399cc\" class=\"colab-df-container\">\n",
              "    <div>\n",
              "<style scoped>\n",
              "    .dataframe tbody tr th:only-of-type {\n",
              "        vertical-align: middle;\n",
              "    }\n",
              "\n",
              "    .dataframe tbody tr th {\n",
              "        vertical-align: top;\n",
              "    }\n",
              "\n",
              "    .dataframe thead th {\n",
              "        text-align: right;\n",
              "    }\n",
              "</style>\n",
              "<table border=\"1\" class=\"dataframe\">\n",
              "  <thead>\n",
              "    <tr style=\"text-align: right;\">\n",
              "      <th></th>\n",
              "      <th>Unnamed: 0</th>\n",
              "      <th>Helpful Votes (bin)</th>\n",
              "      <th>Number of Records</th>\n",
              "      <th>Star Rating (bin)</th>\n",
              "      <th>Customer Id</th>\n",
              "      <th>Helpful Votes</th>\n",
              "      <th>Overall Votes</th>\n",
              "      <th>Product Id</th>\n",
              "      <th>Review Body</th>\n",
              "      <th>Review Year</th>\n",
              "      <th>Review Headline</th>\n",
              "      <th>Star Rating</th>\n",
              "      <th>Review_status</th>\n",
              "    </tr>\n",
              "  </thead>\n",
              "  <tbody>\n",
              "    <tr>\n",
              "      <th>76</th>\n",
              "      <td>76</td>\n",
              "      <td>0.0</td>\n",
              "      <td>1</td>\n",
              "      <td>0.0</td>\n",
              "      <td>10001274.0</td>\n",
              "      <td>0.0</td>\n",
              "      <td>0.0</td>\n",
              "      <td>142402516</td>\n",
              "      <td>[john, green, write, amaz, book, worth, money]</td>\n",
              "      <td>08/31/2015 0:00</td>\n",
              "      <td>Amazing.</td>\n",
              "      <td>5.0</td>\n",
              "      <td>Good</td>\n",
              "    </tr>\n",
              "    <tr>\n",
              "      <th>77</th>\n",
              "      <td>77</td>\n",
              "      <td>0.0</td>\n",
              "      <td>1</td>\n",
              "      <td>0.0</td>\n",
              "      <td>10001635.0</td>\n",
              "      <td>0.0</td>\n",
              "      <td>1.0</td>\n",
              "      <td>945367163</td>\n",
              "      <td>[classic, awesom, american, tradit, tattoo]</td>\n",
              "      <td>08/29/2015 0:00</td>\n",
              "      <td>Awesome. American traditional tattoo</td>\n",
              "      <td>5.0</td>\n",
              "      <td>Good</td>\n",
              "    </tr>\n",
              "    <tr>\n",
              "      <th>78</th>\n",
              "      <td>78</td>\n",
              "      <td>0.0</td>\n",
              "      <td>1</td>\n",
              "      <td>0.0</td>\n",
              "      <td>10002164.0</td>\n",
              "      <td>0.0</td>\n",
              "      <td>0.0</td>\n",
              "      <td>1512081140</td>\n",
              "      <td>[great, book]</td>\n",
              "      <td>08/28/2015 0:00</td>\n",
              "      <td>Five Stars</td>\n",
              "      <td>5.0</td>\n",
              "      <td>Good</td>\n",
              "    </tr>\n",
              "    <tr>\n",
              "      <th>79</th>\n",
              "      <td>79</td>\n",
              "      <td>0.0</td>\n",
              "      <td>1</td>\n",
              "      <td>0.0</td>\n",
              "      <td>10002164.0</td>\n",
              "      <td>0.0</td>\n",
              "      <td>0.0</td>\n",
              "      <td>B005DI89EI</td>\n",
              "      <td>[littl, help]</td>\n",
              "      <td>08/28/2015 0:00</td>\n",
              "      <td>One Star</td>\n",
              "      <td>1.0</td>\n",
              "      <td>Bad</td>\n",
              "    </tr>\n",
              "    <tr>\n",
              "      <th>80</th>\n",
              "      <td>80</td>\n",
              "      <td>0.0</td>\n",
              "      <td>1</td>\n",
              "      <td>0.0</td>\n",
              "      <td>10002870.0</td>\n",
              "      <td>0.0</td>\n",
              "      <td>0.0</td>\n",
              "      <td>764152319</td>\n",
              "      <td>[get, grand, babi, potti, train, good, book]</td>\n",
              "      <td>08/28/2015 0:00</td>\n",
              "      <td>Very good book.</td>\n",
              "      <td>5.0</td>\n",
              "      <td>Good</td>\n",
              "    </tr>\n",
              "    <tr>\n",
              "      <th>...</th>\n",
              "      <td>...</td>\n",
              "      <td>...</td>\n",
              "      <td>...</td>\n",
              "      <td>...</td>\n",
              "      <td>...</td>\n",
              "      <td>...</td>\n",
              "      <td>...</td>\n",
              "      <td>...</td>\n",
              "      <td>...</td>\n",
              "      <td>...</td>\n",
              "      <td>...</td>\n",
              "      <td>...</td>\n",
              "      <td>...</td>\n",
              "    </tr>\n",
              "    <tr>\n",
              "      <th>22400</th>\n",
              "      <td>22400</td>\n",
              "      <td>0.0</td>\n",
              "      <td>1</td>\n",
              "      <td>0.0</td>\n",
              "      <td>47830325.0</td>\n",
              "      <td>0.0</td>\n",
              "      <td>1.0</td>\n",
              "      <td>1742200117</td>\n",
              "      <td>[perfect, lot, faster, quot]</td>\n",
              "      <td>08/28/2015 0:00</td>\n",
              "      <td>Four Stars</td>\n",
              "      <td>4.0</td>\n",
              "      <td>Good</td>\n",
              "    </tr>\n",
              "    <tr>\n",
              "      <th>22401</th>\n",
              "      <td>22401</td>\n",
              "      <td>0.0</td>\n",
              "      <td>1</td>\n",
              "      <td>0.0</td>\n",
              "      <td>47830817.0</td>\n",
              "      <td>0.0</td>\n",
              "      <td>0.0</td>\n",
              "      <td>769647197</td>\n",
              "      <td>[cheap, price, that, exactli, card, like, deck...</td>\n",
              "      <td>08/28/2015 0:00</td>\n",
              "      <td>Good for the price</td>\n",
              "      <td>4.0</td>\n",
              "      <td>Good</td>\n",
              "    </tr>\n",
              "    <tr>\n",
              "      <th>22402</th>\n",
              "      <td>22402</td>\n",
              "      <td>0.0</td>\n",
              "      <td>1</td>\n",
              "      <td>0.0</td>\n",
              "      <td>47830817.0</td>\n",
              "      <td>2.0</td>\n",
              "      <td>2.0</td>\n",
              "      <td>1575425009</td>\n",
              "      <td>[get, 18, month, old, daughter, love, book, ni...</td>\n",
              "      <td>08/27/2015 0:00</td>\n",
              "      <td>Great book, great lesson for kids!</td>\n",
              "      <td>5.0</td>\n",
              "      <td>Good</td>\n",
              "    </tr>\n",
              "    <tr>\n",
              "      <th>22403</th>\n",
              "      <td>22403</td>\n",
              "      <td>0.0</td>\n",
              "      <td>1</td>\n",
              "      <td>0.0</td>\n",
              "      <td>47830878.0</td>\n",
              "      <td>1.0</td>\n",
              "      <td>1.0</td>\n",
              "      <td>1940014417</td>\n",
              "      <td>[book, guid, gentl, still, move, forward, life...</td>\n",
              "      <td>08/31/2015 0:00</td>\n",
              "      <td>Be gentle, be aware, move forward!</td>\n",
              "      <td>5.0</td>\n",
              "      <td>Good</td>\n",
              "    </tr>\n",
              "    <tr>\n",
              "      <th>22404</th>\n",
              "      <td>22404</td>\n",
              "      <td>0.0</td>\n",
              "      <td>1</td>\n",
              "      <td>0.0</td>\n",
              "      <td>47834640.0</td>\n",
              "      <td>0.0</td>\n",
              "      <td>0.0</td>\n",
              "      <td>316101745</td>\n",
              "      <td>[love, entir, seri, imagin]</td>\n",
              "      <td>08/27/2015 0:00</td>\n",
              "      <td>Five Stars</td>\n",
              "      <td>5.0</td>\n",
              "      <td>Good</td>\n",
              "    </tr>\n",
              "  </tbody>\n",
              "</table>\n",
              "<p>12918 rows × 13 columns</p>\n",
              "</div>\n",
              "    <div class=\"colab-df-buttons\">\n",
              "\n",
              "  <div class=\"colab-df-container\">\n",
              "    <button class=\"colab-df-convert\" onclick=\"convertToInteractive('df-03a69421-7b74-4fcd-8eaa-3237571399cc')\"\n",
              "            title=\"Convert this dataframe to an interactive table.\"\n",
              "            style=\"display:none;\">\n",
              "\n",
              "  <svg xmlns=\"http://www.w3.org/2000/svg\" height=\"24px\" viewBox=\"0 -960 960 960\">\n",
              "    <path d=\"M120-120v-720h720v720H120Zm60-500h600v-160H180v160Zm220 220h160v-160H400v160Zm0 220h160v-160H400v160ZM180-400h160v-160H180v160Zm440 0h160v-160H620v160ZM180-180h160v-160H180v160Zm440 0h160v-160H620v160Z\"/>\n",
              "  </svg>\n",
              "    </button>\n",
              "\n",
              "  <style>\n",
              "    .colab-df-container {\n",
              "      display:flex;\n",
              "      gap: 12px;\n",
              "    }\n",
              "\n",
              "    .colab-df-convert {\n",
              "      background-color: #E8F0FE;\n",
              "      border: none;\n",
              "      border-radius: 50%;\n",
              "      cursor: pointer;\n",
              "      display: none;\n",
              "      fill: #1967D2;\n",
              "      height: 32px;\n",
              "      padding: 0 0 0 0;\n",
              "      width: 32px;\n",
              "    }\n",
              "\n",
              "    .colab-df-convert:hover {\n",
              "      background-color: #E2EBFA;\n",
              "      box-shadow: 0px 1px 2px rgba(60, 64, 67, 0.3), 0px 1px 3px 1px rgba(60, 64, 67, 0.15);\n",
              "      fill: #174EA6;\n",
              "    }\n",
              "\n",
              "    .colab-df-buttons div {\n",
              "      margin-bottom: 4px;\n",
              "    }\n",
              "\n",
              "    [theme=dark] .colab-df-convert {\n",
              "      background-color: #3B4455;\n",
              "      fill: #D2E3FC;\n",
              "    }\n",
              "\n",
              "    [theme=dark] .colab-df-convert:hover {\n",
              "      background-color: #434B5C;\n",
              "      box-shadow: 0px 1px 3px 1px rgba(0, 0, 0, 0.15);\n",
              "      filter: drop-shadow(0px 1px 2px rgba(0, 0, 0, 0.3));\n",
              "      fill: #FFFFFF;\n",
              "    }\n",
              "  </style>\n",
              "\n",
              "    <script>\n",
              "      const buttonEl =\n",
              "        document.querySelector('#df-03a69421-7b74-4fcd-8eaa-3237571399cc button.colab-df-convert');\n",
              "      buttonEl.style.display =\n",
              "        google.colab.kernel.accessAllowed ? 'block' : 'none';\n",
              "\n",
              "      async function convertToInteractive(key) {\n",
              "        const element = document.querySelector('#df-03a69421-7b74-4fcd-8eaa-3237571399cc');\n",
              "        const dataTable =\n",
              "          await google.colab.kernel.invokeFunction('convertToInteractive',\n",
              "                                                    [key], {});\n",
              "        if (!dataTable) return;\n",
              "\n",
              "        const docLinkHtml = 'Like what you see? Visit the ' +\n",
              "          '<a target=\"_blank\" href=https://colab.research.google.com/notebooks/data_table.ipynb>data table notebook</a>'\n",
              "          + ' to learn more about interactive tables.';\n",
              "        element.innerHTML = '';\n",
              "        dataTable['output_type'] = 'display_data';\n",
              "        await google.colab.output.renderOutput(dataTable, element);\n",
              "        const docLink = document.createElement('div');\n",
              "        docLink.innerHTML = docLinkHtml;\n",
              "        element.appendChild(docLink);\n",
              "      }\n",
              "    </script>\n",
              "  </div>\n",
              "\n",
              "\n",
              "<div id=\"df-07d1fa00-466a-43fd-ba62-05ee3b6b6d29\">\n",
              "  <button class=\"colab-df-quickchart\" onclick=\"quickchart('df-07d1fa00-466a-43fd-ba62-05ee3b6b6d29')\"\n",
              "            title=\"Suggest charts.\"\n",
              "            style=\"display:none;\">\n",
              "\n",
              "<svg xmlns=\"http://www.w3.org/2000/svg\" height=\"24px\"viewBox=\"0 0 24 24\"\n",
              "     width=\"24px\">\n",
              "    <g>\n",
              "        <path d=\"M19 3H5c-1.1 0-2 .9-2 2v14c0 1.1.9 2 2 2h14c1.1 0 2-.9 2-2V5c0-1.1-.9-2-2-2zM9 17H7v-7h2v7zm4 0h-2V7h2v10zm4 0h-2v-4h2v4z\"/>\n",
              "    </g>\n",
              "</svg>\n",
              "  </button>\n",
              "\n",
              "<style>\n",
              "  .colab-df-quickchart {\n",
              "      --bg-color: #E8F0FE;\n",
              "      --fill-color: #1967D2;\n",
              "      --hover-bg-color: #E2EBFA;\n",
              "      --hover-fill-color: #174EA6;\n",
              "      --disabled-fill-color: #AAA;\n",
              "      --disabled-bg-color: #DDD;\n",
              "  }\n",
              "\n",
              "  [theme=dark] .colab-df-quickchart {\n",
              "      --bg-color: #3B4455;\n",
              "      --fill-color: #D2E3FC;\n",
              "      --hover-bg-color: #434B5C;\n",
              "      --hover-fill-color: #FFFFFF;\n",
              "      --disabled-bg-color: #3B4455;\n",
              "      --disabled-fill-color: #666;\n",
              "  }\n",
              "\n",
              "  .colab-df-quickchart {\n",
              "    background-color: var(--bg-color);\n",
              "    border: none;\n",
              "    border-radius: 50%;\n",
              "    cursor: pointer;\n",
              "    display: none;\n",
              "    fill: var(--fill-color);\n",
              "    height: 32px;\n",
              "    padding: 0;\n",
              "    width: 32px;\n",
              "  }\n",
              "\n",
              "  .colab-df-quickchart:hover {\n",
              "    background-color: var(--hover-bg-color);\n",
              "    box-shadow: 0 1px 2px rgba(60, 64, 67, 0.3), 0 1px 3px 1px rgba(60, 64, 67, 0.15);\n",
              "    fill: var(--button-hover-fill-color);\n",
              "  }\n",
              "\n",
              "  .colab-df-quickchart-complete:disabled,\n",
              "  .colab-df-quickchart-complete:disabled:hover {\n",
              "    background-color: var(--disabled-bg-color);\n",
              "    fill: var(--disabled-fill-color);\n",
              "    box-shadow: none;\n",
              "  }\n",
              "\n",
              "  .colab-df-spinner {\n",
              "    border: 2px solid var(--fill-color);\n",
              "    border-color: transparent;\n",
              "    border-bottom-color: var(--fill-color);\n",
              "    animation:\n",
              "      spin 1s steps(1) infinite;\n",
              "  }\n",
              "\n",
              "  @keyframes spin {\n",
              "    0% {\n",
              "      border-color: transparent;\n",
              "      border-bottom-color: var(--fill-color);\n",
              "      border-left-color: var(--fill-color);\n",
              "    }\n",
              "    20% {\n",
              "      border-color: transparent;\n",
              "      border-left-color: var(--fill-color);\n",
              "      border-top-color: var(--fill-color);\n",
              "    }\n",
              "    30% {\n",
              "      border-color: transparent;\n",
              "      border-left-color: var(--fill-color);\n",
              "      border-top-color: var(--fill-color);\n",
              "      border-right-color: var(--fill-color);\n",
              "    }\n",
              "    40% {\n",
              "      border-color: transparent;\n",
              "      border-right-color: var(--fill-color);\n",
              "      border-top-color: var(--fill-color);\n",
              "    }\n",
              "    60% {\n",
              "      border-color: transparent;\n",
              "      border-right-color: var(--fill-color);\n",
              "    }\n",
              "    80% {\n",
              "      border-color: transparent;\n",
              "      border-right-color: var(--fill-color);\n",
              "      border-bottom-color: var(--fill-color);\n",
              "    }\n",
              "    90% {\n",
              "      border-color: transparent;\n",
              "      border-bottom-color: var(--fill-color);\n",
              "    }\n",
              "  }\n",
              "</style>\n",
              "\n",
              "  <script>\n",
              "    async function quickchart(key) {\n",
              "      const quickchartButtonEl =\n",
              "        document.querySelector('#' + key + ' button');\n",
              "      quickchartButtonEl.disabled = true;  // To prevent multiple clicks.\n",
              "      quickchartButtonEl.classList.add('colab-df-spinner');\n",
              "      try {\n",
              "        const charts = await google.colab.kernel.invokeFunction(\n",
              "            'suggestCharts', [key], {});\n",
              "      } catch (error) {\n",
              "        console.error('Error during call to suggestCharts:', error);\n",
              "      }\n",
              "      quickchartButtonEl.classList.remove('colab-df-spinner');\n",
              "      quickchartButtonEl.classList.add('colab-df-quickchart-complete');\n",
              "    }\n",
              "    (() => {\n",
              "      let quickchartButtonEl =\n",
              "        document.querySelector('#df-07d1fa00-466a-43fd-ba62-05ee3b6b6d29 button');\n",
              "      quickchartButtonEl.style.display =\n",
              "        google.colab.kernel.accessAllowed ? 'block' : 'none';\n",
              "    })();\n",
              "  </script>\n",
              "</div>\n",
              "    </div>\n",
              "  </div>\n"
            ]
          },
          "metadata": {},
          "execution_count": 386
        }
      ]
    },
    {
      "cell_type": "markdown",
      "source": [
        "##ML"
      ],
      "metadata": {
        "id": "ilJomMzUf654"
      }
    },
    {
      "cell_type": "code",
      "source": [
        "Independent_var =DataSet['Review_status']\n",
        "Dependent_var = DataSet['Review Body']\n",
        "\n",
        "IV_train, IV_test, DV_train, DV_test = train_test_split(Independent_var, Dependent_var, random_state = 225)"
      ],
      "metadata": {
        "id": "nHkK457DsDjH"
      },
      "execution_count": 387,
      "outputs": []
    },
    {
      "cell_type": "code",
      "source": [
        "tvec = TfidfVectorizer()\n",
        "clf2 = LogisticRegression(max_iter=10000)"
      ],
      "metadata": {
        "id": "5DSTCWcArN2w"
      },
      "execution_count": 388,
      "outputs": []
    },
    {
      "cell_type": "code",
      "source": [
        "print('IV_train :', len(IV_train))\n",
        "print('IV_test  :', len(IV_test))\n",
        "print('DV_train :', len(DV_train))\n",
        "print('DV_test  :', len(DV_test))"
      ],
      "metadata": {
        "colab": {
          "base_uri": "https://localhost:8080/"
        },
        "id": "k0yuohlbrN-9",
        "outputId": "41c922e3-0ae9-4818-d1e0-00a73da52c2d"
      },
      "execution_count": 389,
      "outputs": [
        {
          "output_type": "stream",
          "name": "stdout",
          "text": [
            "IV_train : 9688\n",
            "IV_test  : 3230\n",
            "DV_train : 9688\n",
            "DV_test  : 3230\n"
          ]
        }
      ]
    },
    {
      "cell_type": "code",
      "source": [
        "model = Pipeline([('vectorizer',tvec),('classifier',clf2)])\n",
        "model.fit(IV_train, DV_train )\n",
        "predictions = model.predict(IV_test)\n",
        "confusion_matrix(predictions, DV_test)"
      ],
      "metadata": {
        "id": "WOT9u6nymDjw"
      },
      "execution_count": null,
      "outputs": []
    },
    {
      "cell_type": "code",
      "source": [
        "example = [\"we had a corporate outing to the etc hotel,we had and average experince it but the roads to reach the destination was so good\"]\n",
        "ex2=[\"i had a bad day in the hotel\"]\n",
        "ex3=['i was very sad that there were no pictures']\n",
        "result = model.predict(example)\n",
        "result"
      ],
      "metadata": {
        "colab": {
          "base_uri": "https://localhost:8080/"
        },
        "id": "7LnQ8yN3zCXI",
        "outputId": "ace28059-6c68-4501-b338-d29cda572cb9"
      },
      "execution_count": 353,
      "outputs": [
        {
          "output_type": "execute_result",
          "data": {
            "text/plain": [
              "array(['Good'], dtype=object)"
            ]
          },
          "metadata": {},
          "execution_count": 353
        }
      ]
    }
  ]
}